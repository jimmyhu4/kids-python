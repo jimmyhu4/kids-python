{
 "cells": [
  {
   "cell_type": "markdown",
   "metadata": {},
   "source": [
    "Today we will learn a new concept in Python called if-esle control. This may sound a bit weird to you as you may wonder what this is used for. But I will show you in a minute how this can be helpful in many cases.\n",
    "\n",
    "Suppose you are going to have a birthday party and you have prepared different goodie bags for the girls and boys that will attend the party. So in this case you need to decide the gift based on whether the attendee is a boy or a girl. We can do this in Python using `if-else` statement like this\n",
    "```\n",
    "if attendee == \"boy\":\n",
    "   print(\"Please take a Blue goodie bag\")\n",
    "else:\n",
    "   print(\"Please take a Pink goodie bag\")\n",
    "```"
   ]
  },
  {
   "cell_type": "code",
   "execution_count": 3,
   "metadata": {},
   "outputs": [
    {
     "data": {
      "text/plain": [
       "'girl'"
      ]
     },
     "execution_count": 3,
     "metadata": {},
     "output_type": "execute_result"
    }
   ],
   "source": [
    "# We use `=` to assign value\n",
    "attendee = \"girl\" #\"boy\"\n",
    "attendee"
   ]
  },
  {
   "cell_type": "code",
   "execution_count": 4,
   "metadata": {},
   "outputs": [
    {
     "data": {
      "text/plain": [
       "False"
      ]
     },
     "execution_count": 4,
     "metadata": {},
     "output_type": "execute_result"
    }
   ],
   "source": [
    "# We use `==` to check if left-side equal right-side\n",
    "attendee == \"boy\""
   ]
  },
  {
   "cell_type": "code",
   "execution_count": 5,
   "metadata": {},
   "outputs": [
    {
     "name": "stdout",
     "output_type": "stream",
     "text": [
      "Please take a Pink goodie bag\n"
     ]
    }
   ],
   "source": [
    "if attendee == \"boy\":\n",
    "   print(\"Please take a Blue goodie bag\")\n",
    "else:\n",
    "   print(\"Please take a Pink goodie bag\")"
   ]
  },
  {
   "cell_type": "markdown",
   "metadata": {},
   "source": [
    "Let's look at another example. Suppose that you want to control your heat at your house depending on the temperature. Say if the temperature drops below 66F, you will turn on the heat; if the temperature is above 70F, you want to turn off the heat. In this case you can do something like\n",
    "```\n",
    "if temperature < 66:\n",
    "   print(\"Turn on the heat\")\n",
    "elif temperature > 70:\n",
    "   print(\"Turn off the heat\")\n",
    "else:\n",
    "   print(\"Do nothing\")\n",
    "```"
   ]
  },
  {
   "cell_type": "code",
   "execution_count": 7,
   "metadata": {},
   "outputs": [
    {
     "name": "stdout",
     "output_type": "stream",
     "text": [
      "Turn on the heat\n"
     ]
    }
   ],
   "source": [
    "temperature = 50\n",
    "\n",
    "if temperature < 66:\n",
    "   print(\"Turn on the heat\")\n",
    "elif temperature > 70:\n",
    "   print(\"Turn off the heat\")\n",
    "else:\n",
    "   print(\"Do nothing\")"
   ]
  },
  {
   "cell_type": "markdown",
   "metadata": {},
   "source": [
    "temperature = 90\n",
    "\n",
    "if temperature < 66:\n",
    "   print(\"Turn on the heat\")\n",
    "elif temperature > 70:\n",
    "   print(\"Turn off the heat\")\n",
    "else:\n",
    "   print(\"Do nothing\")"
   ]
  },
  {
   "cell_type": "code",
   "execution_count": 9,
   "metadata": {},
   "outputs": [
    {
     "name": "stdout",
     "output_type": "stream",
     "text": [
      "Do nothing\n"
     ]
    }
   ],
   "source": [
    "temperature = 68\n",
    "\n",
    "if temperature < 66:\n",
    "   print(\"Turn on the heat\")\n",
    "elif temperature > 70:\n",
    "   print(\"Turn off the heat\")\n",
    "else:\n",
    "   print(\"Do nothing\")"
   ]
  },
  {
   "cell_type": "markdown",
   "metadata": {},
   "source": [
    "## Cautious\n",
    "\n",
    "When you check equal condition, please do use `==` instead of  `=`. Otherwise your program will not work in the way that it is supposed to be."
   ]
  }
 ],
 "metadata": {
  "kernelspec": {
   "display_name": "Python 3.7.5 64-bit",
   "language": "python",
   "name": "python37564bit586c4fbfaa78491189fcaa770ac93e25"
  },
  "language_info": {
   "codemirror_mode": {
    "name": "ipython",
    "version": 3
   },
   "file_extension": ".py",
   "mimetype": "text/x-python",
   "name": "python",
   "nbconvert_exporter": "python",
   "pygments_lexer": "ipython3",
   "version": "3.7.5"
  }
 },
 "nbformat": 4,
 "nbformat_minor": 4
}
