{
 "cells": [
  {
   "cell_type": "markdown",
   "metadata": {},
   "source": [
    "In Python, there are more complicated types other than int, float, string, boolean. Consider an example where we have a bunch of toys with differnt colors. In this case, we can create/define a string variable to describe the color of each toy like the following \n",
    "```\n",
    "toy1 = \"pink\"\n",
    "toy2 = \"red\"\n",
    "toy3 = \"purple\"\n",
    "toy4 = \"rainbow\"\n",
    "toy5 = \"pink\"\n",
    "toy6 = \"blue\"\n",
    "...\n",
    "```\n",
    "This way usually works fine if you have a small number of toys. However, if you have many toys say 50, then it becomes a bit messy to define so many variables that have similar names. It's also a bit easy to get them mixed up. \n",
    "\n",
    "Today we will learn a speical type in Python to make the above situation more organized. We can actually put all the colors of the toys in a *list*. Let's see the example  "
   ]
  },
  {
   "cell_type": "code",
   "execution_count": 1,
   "metadata": {},
   "outputs": [],
   "source": [
    "# Define a list to include all the colors of my toys\n",
    "colors_of_my_toys = [\"pink\", \"red\", \"purple\", \"rainbow\", \"pink\", \"blue\"]"
   ]
  },
  {
   "cell_type": "code",
   "execution_count": 3,
   "metadata": {},
   "outputs": [
    {
     "data": {
      "text/plain": [
       "['pink', 'red', 'purple', 'rainbow', 'pink', 'blue']"
      ]
     },
     "execution_count": 3,
     "metadata": {},
     "output_type": "execute_result"
    }
   ],
   "source": [
    "colors_of_my_toys"
   ]
  },
  {
   "cell_type": "markdown",
   "metadata": {},
   "source": [
    "In the above list, each item/color has an *index* so that we can easily find it. The index is just a number indicating the order of the item in a list. For instance, the first color \"pink\" has an index 0, the second color \"red\" has an index 1, the third color \"purple\" has an index 2, ....\n",
    "\n",
    "> Remember the start index of a list in Python is ALWAYS 0 (instead of 1)!"
   ]
  },
  {
   "cell_type": "markdown",
   "metadata": {},
   "source": [
    "Question from the student:\n",
    "* How does the computer know which color goes with which toy? - There is actually an internal order in the Python list. The order that you add items to the list will be the order that Python uses to find each item. "
   ]
  },
  {
   "cell_type": "code",
   "execution_count": 4,
   "metadata": {},
   "outputs": [
    {
     "data": {
      "text/plain": [
       "'pink'"
      ]
     },
     "execution_count": 4,
     "metadata": {},
     "output_type": "execute_result"
    }
   ],
   "source": [
    "# Get a specific toy's color\n",
    "colors_of_my_toys[0]"
   ]
  },
  {
   "cell_type": "markdown",
   "metadata": {},
   "source": [
    "How about let's get the 5th toy's color?"
   ]
  },
  {
   "cell_type": "code",
   "execution_count": 5,
   "metadata": {},
   "outputs": [
    {
     "data": {
      "text/plain": [
       "'pink'"
      ]
     },
     "execution_count": 5,
     "metadata": {},
     "output_type": "execute_result"
    }
   ],
   "source": [
    "colors_of_my_toys[4]"
   ]
  },
  {
   "cell_type": "markdown",
   "metadata": {},
   "source": [
    "How about let's get the 6th toy's color?"
   ]
  },
  {
   "cell_type": "code",
   "execution_count": 6,
   "metadata": {},
   "outputs": [
    {
     "data": {
      "text/plain": [
       "'blue'"
      ]
     },
     "execution_count": 6,
     "metadata": {},
     "output_type": "execute_result"
    }
   ],
   "source": [
    "colors_of_my_toys[5]"
   ]
  },
  {
   "cell_type": "markdown",
   "metadata": {},
   "source": [
    "You got the idea! When you want to find the `i-th` toy's color, you will need to use `i-1` as the index. Before we wrap up. I also want to give you some caution. There is only a certain number of items in a list. If we use an index that is beyond a certain range, you will get an error.   "
   ]
  },
  {
   "cell_type": "code",
   "execution_count": 7,
   "metadata": {},
   "outputs": [
    {
     "ename": "IndexError",
     "evalue": "list index out of range",
     "output_type": "error",
     "traceback": [
      "\u001b[1;31m---------------------------------------------------------------------------\u001b[0m",
      "\u001b[1;31mIndexError\u001b[0m                                Traceback (most recent call last)",
      "\u001b[1;32m<ipython-input-7-e8839e2e9c83>\u001b[0m in \u001b[0;36m<module>\u001b[1;34m\u001b[0m\n\u001b[1;32m----> 1\u001b[1;33m \u001b[0mcolors_of_my_toys\u001b[0m\u001b[1;33m[\u001b[0m\u001b[1;36m6\u001b[0m\u001b[1;33m]\u001b[0m\u001b[1;33m\u001b[0m\u001b[0m\n\u001b[0m",
      "\u001b[1;31mIndexError\u001b[0m: list index out of range"
     ]
    }
   ],
   "source": [
    "colors_of_my_toys[6]"
   ]
  },
  {
   "cell_type": "markdown",
   "metadata": {},
   "source": [
    "One more thing, we can actually check the number of items in a list by `len()`."
   ]
  },
  {
   "cell_type": "code",
   "execution_count": 9,
   "metadata": {},
   "outputs": [
    {
     "data": {
      "text/plain": [
       "6"
      ]
     },
     "execution_count": 9,
     "metadata": {},
     "output_type": "execute_result"
    }
   ],
   "source": [
    "len(colors_of_my_toys)"
   ]
  },
  {
   "cell_type": "markdown",
   "metadata": {},
   "source": [
    "In the next class, we will continue our journey with Python list by learning how to add items to an existing list."
   ]
  }
 ],
 "metadata": {
  "kernelspec": {
   "display_name": "Python 3",
   "language": "python",
   "name": "python3"
  },
  "language_info": {
   "codemirror_mode": {
    "name": "ipython",
    "version": 3
   },
   "file_extension": ".py",
   "mimetype": "text/x-python",
   "name": "python",
   "nbconvert_exporter": "python",
   "pygments_lexer": "ipython3",
   "version": "3.5.4"
  }
 },
 "nbformat": 4,
 "nbformat_minor": 4
}
